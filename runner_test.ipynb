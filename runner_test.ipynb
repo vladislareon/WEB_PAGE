{
 "cells": [
  {
   "cell_type": "code",
   "execution_count": 17,
   "metadata": {},
   "outputs": [],
   "source": [
    "import json\n",
    "import requests"
   ]
  },
  {
   "cell_type": "code",
   "execution_count": 22,
   "metadata": {},
   "outputs": [],
   "source": [
    "database_name = \"WPE_test_2022\"\n",
    "mongo_server_name = \"mongodb://192.168.135.21:27017/\"\n",
    "collection_name = \"Posts\"\n",
    "crawleres_manager_url = \"http://cm.portal.aps/api/v2/crawl\""
   ]
  },
  {
   "cell_type": "code",
   "execution_count": null,
   "metadata": {},
   "outputs": [],
   "source": []
  },
  {
   "cell_type": "code",
   "execution_count": 23,
   "metadata": {},
   "outputs": [],
   "source": [
    "def delete_query(crawl_id: str):\n",
    "    url = f\"http://cm.portal.aps/api/v2/crawl/{crawl_id}?force=true\"\n",
    "    headers = {\"Content-Type\": \"application/json\"}\n",
    "    response = requests.request(\"DELETE\", url, headers=headers)\n",
    "    print(response)"
   ]
  },
  {
   "cell_type": "code",
   "execution_count": 24,
   "metadata": {},
   "outputs": [],
   "source": [
    "objects =[\"https://www.kommersant.ru/doc/5292181\"]"
   ]
  },
  {
   "cell_type": "code",
   "execution_count": null,
   "metadata": {},
   "outputs": [],
   "source": []
  },
  {
   "cell_type": "markdown",
   "metadata": {},
   "source": [
    "Создадим сервис для извлечения текста новости\n",
    "\n",
    "Для этого создадим сервис с соответствующими параметрами"
   ]
  },
  {
   "cell_type": "code",
   "execution_count": 25,
   "metadata": {},
   "outputs": [
    {
     "ename": "ConnectionError",
     "evalue": "HTTPConnectionPool(host='cm.portal.aps', port=80): Max retries exceeded with url: /api/v2/crawl/NWS (Caused by NewConnectionError('<urllib3.connection.HTTPConnection object at 0x000001F3920F0D30>: Failed to establish a new connection: [Errno 11001] getaddrinfo failed'))",
     "output_type": "error",
     "traceback": [
      "\u001b[1;31m---------------------------------------------------------------------------\u001b[0m",
      "\u001b[1;31mgaierror\u001b[0m                                  Traceback (most recent call last)",
      "\u001b[1;32mD:\\conda\\lib\\site-packages\\urllib3\\connection.py\u001b[0m in \u001b[0;36m_new_conn\u001b[1;34m(self)\u001b[0m\n\u001b[0;32m    173\u001b[0m         \u001b[1;32mtry\u001b[0m\u001b[1;33m:\u001b[0m\u001b[1;33m\u001b[0m\u001b[1;33m\u001b[0m\u001b[0m\n\u001b[1;32m--> 174\u001b[1;33m             conn = connection.create_connection(\n\u001b[0m\u001b[0;32m    175\u001b[0m                 \u001b[1;33m(\u001b[0m\u001b[0mself\u001b[0m\u001b[1;33m.\u001b[0m\u001b[0m_dns_host\u001b[0m\u001b[1;33m,\u001b[0m \u001b[0mself\u001b[0m\u001b[1;33m.\u001b[0m\u001b[0mport\u001b[0m\u001b[1;33m)\u001b[0m\u001b[1;33m,\u001b[0m \u001b[0mself\u001b[0m\u001b[1;33m.\u001b[0m\u001b[0mtimeout\u001b[0m\u001b[1;33m,\u001b[0m \u001b[1;33m**\u001b[0m\u001b[0mextra_kw\u001b[0m\u001b[1;33m\u001b[0m\u001b[1;33m\u001b[0m\u001b[0m\n",
      "\u001b[1;32mD:\\conda\\lib\\site-packages\\urllib3\\util\\connection.py\u001b[0m in \u001b[0;36mcreate_connection\u001b[1;34m(address, timeout, source_address, socket_options)\u001b[0m\n\u001b[0;32m     72\u001b[0m \u001b[1;33m\u001b[0m\u001b[0m\n\u001b[1;32m---> 73\u001b[1;33m     \u001b[1;32mfor\u001b[0m \u001b[0mres\u001b[0m \u001b[1;32min\u001b[0m \u001b[0msocket\u001b[0m\u001b[1;33m.\u001b[0m\u001b[0mgetaddrinfo\u001b[0m\u001b[1;33m(\u001b[0m\u001b[0mhost\u001b[0m\u001b[1;33m,\u001b[0m \u001b[0mport\u001b[0m\u001b[1;33m,\u001b[0m \u001b[0mfamily\u001b[0m\u001b[1;33m,\u001b[0m \u001b[0msocket\u001b[0m\u001b[1;33m.\u001b[0m\u001b[0mSOCK_STREAM\u001b[0m\u001b[1;33m)\u001b[0m\u001b[1;33m:\u001b[0m\u001b[1;33m\u001b[0m\u001b[1;33m\u001b[0m\u001b[0m\n\u001b[0m\u001b[0;32m     74\u001b[0m         \u001b[0maf\u001b[0m\u001b[1;33m,\u001b[0m \u001b[0msocktype\u001b[0m\u001b[1;33m,\u001b[0m \u001b[0mproto\u001b[0m\u001b[1;33m,\u001b[0m \u001b[0mcanonname\u001b[0m\u001b[1;33m,\u001b[0m \u001b[0msa\u001b[0m \u001b[1;33m=\u001b[0m \u001b[0mres\u001b[0m\u001b[1;33m\u001b[0m\u001b[1;33m\u001b[0m\u001b[0m\n",
      "\u001b[1;32mD:\\conda\\lib\\socket.py\u001b[0m in \u001b[0;36mgetaddrinfo\u001b[1;34m(host, port, family, type, proto, flags)\u001b[0m\n\u001b[0;32m    953\u001b[0m     \u001b[0maddrlist\u001b[0m \u001b[1;33m=\u001b[0m \u001b[1;33m[\u001b[0m\u001b[1;33m]\u001b[0m\u001b[1;33m\u001b[0m\u001b[1;33m\u001b[0m\u001b[0m\n\u001b[1;32m--> 954\u001b[1;33m     \u001b[1;32mfor\u001b[0m \u001b[0mres\u001b[0m \u001b[1;32min\u001b[0m \u001b[0m_socket\u001b[0m\u001b[1;33m.\u001b[0m\u001b[0mgetaddrinfo\u001b[0m\u001b[1;33m(\u001b[0m\u001b[0mhost\u001b[0m\u001b[1;33m,\u001b[0m \u001b[0mport\u001b[0m\u001b[1;33m,\u001b[0m \u001b[0mfamily\u001b[0m\u001b[1;33m,\u001b[0m \u001b[0mtype\u001b[0m\u001b[1;33m,\u001b[0m \u001b[0mproto\u001b[0m\u001b[1;33m,\u001b[0m \u001b[0mflags\u001b[0m\u001b[1;33m)\u001b[0m\u001b[1;33m:\u001b[0m\u001b[1;33m\u001b[0m\u001b[1;33m\u001b[0m\u001b[0m\n\u001b[0m\u001b[0;32m    955\u001b[0m         \u001b[0maf\u001b[0m\u001b[1;33m,\u001b[0m \u001b[0msocktype\u001b[0m\u001b[1;33m,\u001b[0m \u001b[0mproto\u001b[0m\u001b[1;33m,\u001b[0m \u001b[0mcanonname\u001b[0m\u001b[1;33m,\u001b[0m \u001b[0msa\u001b[0m \u001b[1;33m=\u001b[0m \u001b[0mres\u001b[0m\u001b[1;33m\u001b[0m\u001b[1;33m\u001b[0m\u001b[0m\n",
      "\u001b[1;31mgaierror\u001b[0m: [Errno 11001] getaddrinfo failed",
      "\nDuring handling of the above exception, another exception occurred:\n",
      "\u001b[1;31mNewConnectionError\u001b[0m                        Traceback (most recent call last)",
      "\u001b[1;32mD:\\conda\\lib\\site-packages\\urllib3\\connectionpool.py\u001b[0m in \u001b[0;36murlopen\u001b[1;34m(self, method, url, body, headers, retries, redirect, assert_same_host, timeout, pool_timeout, release_conn, chunked, body_pos, **response_kw)\u001b[0m\n\u001b[0;32m    698\u001b[0m             \u001b[1;31m# Make the request on the httplib connection object.\u001b[0m\u001b[1;33m\u001b[0m\u001b[1;33m\u001b[0m\u001b[0m\n\u001b[1;32m--> 699\u001b[1;33m             httplib_response = self._make_request(\n\u001b[0m\u001b[0;32m    700\u001b[0m                 \u001b[0mconn\u001b[0m\u001b[1;33m,\u001b[0m\u001b[1;33m\u001b[0m\u001b[1;33m\u001b[0m\u001b[0m\n",
      "\u001b[1;32mD:\\conda\\lib\\site-packages\\urllib3\\connectionpool.py\u001b[0m in \u001b[0;36m_make_request\u001b[1;34m(self, conn, method, url, timeout, chunked, **httplib_request_kw)\u001b[0m\n\u001b[0;32m    393\u001b[0m             \u001b[1;32melse\u001b[0m\u001b[1;33m:\u001b[0m\u001b[1;33m\u001b[0m\u001b[1;33m\u001b[0m\u001b[0m\n\u001b[1;32m--> 394\u001b[1;33m                 \u001b[0mconn\u001b[0m\u001b[1;33m.\u001b[0m\u001b[0mrequest\u001b[0m\u001b[1;33m(\u001b[0m\u001b[0mmethod\u001b[0m\u001b[1;33m,\u001b[0m \u001b[0murl\u001b[0m\u001b[1;33m,\u001b[0m \u001b[1;33m**\u001b[0m\u001b[0mhttplib_request_kw\u001b[0m\u001b[1;33m)\u001b[0m\u001b[1;33m\u001b[0m\u001b[1;33m\u001b[0m\u001b[0m\n\u001b[0m\u001b[0;32m    395\u001b[0m \u001b[1;33m\u001b[0m\u001b[0m\n",
      "\u001b[1;32mD:\\conda\\lib\\site-packages\\urllib3\\connection.py\u001b[0m in \u001b[0;36mrequest\u001b[1;34m(self, method, url, body, headers)\u001b[0m\n\u001b[0;32m    238\u001b[0m             \u001b[0mheaders\u001b[0m\u001b[1;33m[\u001b[0m\u001b[1;34m\"User-Agent\"\u001b[0m\u001b[1;33m]\u001b[0m \u001b[1;33m=\u001b[0m \u001b[0m_get_default_user_agent\u001b[0m\u001b[1;33m(\u001b[0m\u001b[1;33m)\u001b[0m\u001b[1;33m\u001b[0m\u001b[1;33m\u001b[0m\u001b[0m\n\u001b[1;32m--> 239\u001b[1;33m         \u001b[0msuper\u001b[0m\u001b[1;33m(\u001b[0m\u001b[0mHTTPConnection\u001b[0m\u001b[1;33m,\u001b[0m \u001b[0mself\u001b[0m\u001b[1;33m)\u001b[0m\u001b[1;33m.\u001b[0m\u001b[0mrequest\u001b[0m\u001b[1;33m(\u001b[0m\u001b[0mmethod\u001b[0m\u001b[1;33m,\u001b[0m \u001b[0murl\u001b[0m\u001b[1;33m,\u001b[0m \u001b[0mbody\u001b[0m\u001b[1;33m=\u001b[0m\u001b[0mbody\u001b[0m\u001b[1;33m,\u001b[0m \u001b[0mheaders\u001b[0m\u001b[1;33m=\u001b[0m\u001b[0mheaders\u001b[0m\u001b[1;33m)\u001b[0m\u001b[1;33m\u001b[0m\u001b[1;33m\u001b[0m\u001b[0m\n\u001b[0m\u001b[0;32m    240\u001b[0m \u001b[1;33m\u001b[0m\u001b[0m\n",
      "\u001b[1;32mD:\\conda\\lib\\http\\client.py\u001b[0m in \u001b[0;36mrequest\u001b[1;34m(self, method, url, body, headers, encode_chunked)\u001b[0m\n\u001b[0;32m   1278\u001b[0m         \u001b[1;34m\"\"\"Send a complete request to the server.\"\"\"\u001b[0m\u001b[1;33m\u001b[0m\u001b[1;33m\u001b[0m\u001b[0m\n\u001b[1;32m-> 1279\u001b[1;33m         \u001b[0mself\u001b[0m\u001b[1;33m.\u001b[0m\u001b[0m_send_request\u001b[0m\u001b[1;33m(\u001b[0m\u001b[0mmethod\u001b[0m\u001b[1;33m,\u001b[0m \u001b[0murl\u001b[0m\u001b[1;33m,\u001b[0m \u001b[0mbody\u001b[0m\u001b[1;33m,\u001b[0m \u001b[0mheaders\u001b[0m\u001b[1;33m,\u001b[0m \u001b[0mencode_chunked\u001b[0m\u001b[1;33m)\u001b[0m\u001b[1;33m\u001b[0m\u001b[1;33m\u001b[0m\u001b[0m\n\u001b[0m\u001b[0;32m   1280\u001b[0m \u001b[1;33m\u001b[0m\u001b[0m\n",
      "\u001b[1;32mD:\\conda\\lib\\http\\client.py\u001b[0m in \u001b[0;36m_send_request\u001b[1;34m(self, method, url, body, headers, encode_chunked)\u001b[0m\n\u001b[0;32m   1324\u001b[0m             \u001b[0mbody\u001b[0m \u001b[1;33m=\u001b[0m \u001b[0m_encode\u001b[0m\u001b[1;33m(\u001b[0m\u001b[0mbody\u001b[0m\u001b[1;33m,\u001b[0m \u001b[1;34m'body'\u001b[0m\u001b[1;33m)\u001b[0m\u001b[1;33m\u001b[0m\u001b[1;33m\u001b[0m\u001b[0m\n\u001b[1;32m-> 1325\u001b[1;33m         \u001b[0mself\u001b[0m\u001b[1;33m.\u001b[0m\u001b[0mendheaders\u001b[0m\u001b[1;33m(\u001b[0m\u001b[0mbody\u001b[0m\u001b[1;33m,\u001b[0m \u001b[0mencode_chunked\u001b[0m\u001b[1;33m=\u001b[0m\u001b[0mencode_chunked\u001b[0m\u001b[1;33m)\u001b[0m\u001b[1;33m\u001b[0m\u001b[1;33m\u001b[0m\u001b[0m\n\u001b[0m\u001b[0;32m   1326\u001b[0m \u001b[1;33m\u001b[0m\u001b[0m\n",
      "\u001b[1;32mD:\\conda\\lib\\http\\client.py\u001b[0m in \u001b[0;36mendheaders\u001b[1;34m(self, message_body, encode_chunked)\u001b[0m\n\u001b[0;32m   1273\u001b[0m             \u001b[1;32mraise\u001b[0m \u001b[0mCannotSendHeader\u001b[0m\u001b[1;33m(\u001b[0m\u001b[1;33m)\u001b[0m\u001b[1;33m\u001b[0m\u001b[1;33m\u001b[0m\u001b[0m\n\u001b[1;32m-> 1274\u001b[1;33m         \u001b[0mself\u001b[0m\u001b[1;33m.\u001b[0m\u001b[0m_send_output\u001b[0m\u001b[1;33m(\u001b[0m\u001b[0mmessage_body\u001b[0m\u001b[1;33m,\u001b[0m \u001b[0mencode_chunked\u001b[0m\u001b[1;33m=\u001b[0m\u001b[0mencode_chunked\u001b[0m\u001b[1;33m)\u001b[0m\u001b[1;33m\u001b[0m\u001b[1;33m\u001b[0m\u001b[0m\n\u001b[0m\u001b[0;32m   1275\u001b[0m \u001b[1;33m\u001b[0m\u001b[0m\n",
      "\u001b[1;32mD:\\conda\\lib\\http\\client.py\u001b[0m in \u001b[0;36m_send_output\u001b[1;34m(self, message_body, encode_chunked)\u001b[0m\n\u001b[0;32m   1033\u001b[0m         \u001b[1;32mdel\u001b[0m \u001b[0mself\u001b[0m\u001b[1;33m.\u001b[0m\u001b[0m_buffer\u001b[0m\u001b[1;33m[\u001b[0m\u001b[1;33m:\u001b[0m\u001b[1;33m]\u001b[0m\u001b[1;33m\u001b[0m\u001b[1;33m\u001b[0m\u001b[0m\n\u001b[1;32m-> 1034\u001b[1;33m         \u001b[0mself\u001b[0m\u001b[1;33m.\u001b[0m\u001b[0msend\u001b[0m\u001b[1;33m(\u001b[0m\u001b[0mmsg\u001b[0m\u001b[1;33m)\u001b[0m\u001b[1;33m\u001b[0m\u001b[1;33m\u001b[0m\u001b[0m\n\u001b[0m\u001b[0;32m   1035\u001b[0m \u001b[1;33m\u001b[0m\u001b[0m\n",
      "\u001b[1;32mD:\\conda\\lib\\http\\client.py\u001b[0m in \u001b[0;36msend\u001b[1;34m(self, data)\u001b[0m\n\u001b[0;32m    973\u001b[0m             \u001b[1;32mif\u001b[0m \u001b[0mself\u001b[0m\u001b[1;33m.\u001b[0m\u001b[0mauto_open\u001b[0m\u001b[1;33m:\u001b[0m\u001b[1;33m\u001b[0m\u001b[1;33m\u001b[0m\u001b[0m\n\u001b[1;32m--> 974\u001b[1;33m                 \u001b[0mself\u001b[0m\u001b[1;33m.\u001b[0m\u001b[0mconnect\u001b[0m\u001b[1;33m(\u001b[0m\u001b[1;33m)\u001b[0m\u001b[1;33m\u001b[0m\u001b[1;33m\u001b[0m\u001b[0m\n\u001b[0m\u001b[0;32m    975\u001b[0m             \u001b[1;32melse\u001b[0m\u001b[1;33m:\u001b[0m\u001b[1;33m\u001b[0m\u001b[1;33m\u001b[0m\u001b[0m\n",
      "\u001b[1;32mD:\\conda\\lib\\site-packages\\urllib3\\connection.py\u001b[0m in \u001b[0;36mconnect\u001b[1;34m(self)\u001b[0m\n\u001b[0;32m    204\u001b[0m     \u001b[1;32mdef\u001b[0m \u001b[0mconnect\u001b[0m\u001b[1;33m(\u001b[0m\u001b[0mself\u001b[0m\u001b[1;33m)\u001b[0m\u001b[1;33m:\u001b[0m\u001b[1;33m\u001b[0m\u001b[1;33m\u001b[0m\u001b[0m\n\u001b[1;32m--> 205\u001b[1;33m         \u001b[0mconn\u001b[0m \u001b[1;33m=\u001b[0m \u001b[0mself\u001b[0m\u001b[1;33m.\u001b[0m\u001b[0m_new_conn\u001b[0m\u001b[1;33m(\u001b[0m\u001b[1;33m)\u001b[0m\u001b[1;33m\u001b[0m\u001b[1;33m\u001b[0m\u001b[0m\n\u001b[0m\u001b[0;32m    206\u001b[0m         \u001b[0mself\u001b[0m\u001b[1;33m.\u001b[0m\u001b[0m_prepare_conn\u001b[0m\u001b[1;33m(\u001b[0m\u001b[0mconn\u001b[0m\u001b[1;33m)\u001b[0m\u001b[1;33m\u001b[0m\u001b[1;33m\u001b[0m\u001b[0m\n",
      "\u001b[1;32mD:\\conda\\lib\\site-packages\\urllib3\\connection.py\u001b[0m in \u001b[0;36m_new_conn\u001b[1;34m(self)\u001b[0m\n\u001b[0;32m    185\u001b[0m         \u001b[1;32mexcept\u001b[0m \u001b[0mSocketError\u001b[0m \u001b[1;32mas\u001b[0m \u001b[0me\u001b[0m\u001b[1;33m:\u001b[0m\u001b[1;33m\u001b[0m\u001b[1;33m\u001b[0m\u001b[0m\n\u001b[1;32m--> 186\u001b[1;33m             raise NewConnectionError(\n\u001b[0m\u001b[0;32m    187\u001b[0m                 \u001b[0mself\u001b[0m\u001b[1;33m,\u001b[0m \u001b[1;34m\"Failed to establish a new connection: %s\"\u001b[0m \u001b[1;33m%\u001b[0m \u001b[0me\u001b[0m\u001b[1;33m\u001b[0m\u001b[1;33m\u001b[0m\u001b[0m\n",
      "\u001b[1;31mNewConnectionError\u001b[0m: <urllib3.connection.HTTPConnection object at 0x000001F3920F0D30>: Failed to establish a new connection: [Errno 11001] getaddrinfo failed",
      "\nDuring handling of the above exception, another exception occurred:\n",
      "\u001b[1;31mMaxRetryError\u001b[0m                             Traceback (most recent call last)",
      "\u001b[1;32mD:\\conda\\lib\\site-packages\\requests\\adapters.py\u001b[0m in \u001b[0;36msend\u001b[1;34m(self, request, stream, timeout, verify, cert, proxies)\u001b[0m\n\u001b[0;32m    438\u001b[0m             \u001b[1;32mif\u001b[0m \u001b[1;32mnot\u001b[0m \u001b[0mchunked\u001b[0m\u001b[1;33m:\u001b[0m\u001b[1;33m\u001b[0m\u001b[1;33m\u001b[0m\u001b[0m\n\u001b[1;32m--> 439\u001b[1;33m                 resp = conn.urlopen(\n\u001b[0m\u001b[0;32m    440\u001b[0m                     \u001b[0mmethod\u001b[0m\u001b[1;33m=\u001b[0m\u001b[0mrequest\u001b[0m\u001b[1;33m.\u001b[0m\u001b[0mmethod\u001b[0m\u001b[1;33m,\u001b[0m\u001b[1;33m\u001b[0m\u001b[1;33m\u001b[0m\u001b[0m\n",
      "\u001b[1;32mD:\\conda\\lib\\site-packages\\urllib3\\connectionpool.py\u001b[0m in \u001b[0;36murlopen\u001b[1;34m(self, method, url, body, headers, retries, redirect, assert_same_host, timeout, pool_timeout, release_conn, chunked, body_pos, **response_kw)\u001b[0m\n\u001b[0;32m    754\u001b[0m \u001b[1;33m\u001b[0m\u001b[0m\n\u001b[1;32m--> 755\u001b[1;33m             retries = retries.increment(\n\u001b[0m\u001b[0;32m    756\u001b[0m                 \u001b[0mmethod\u001b[0m\u001b[1;33m,\u001b[0m \u001b[0murl\u001b[0m\u001b[1;33m,\u001b[0m \u001b[0merror\u001b[0m\u001b[1;33m=\u001b[0m\u001b[0me\u001b[0m\u001b[1;33m,\u001b[0m \u001b[0m_pool\u001b[0m\u001b[1;33m=\u001b[0m\u001b[0mself\u001b[0m\u001b[1;33m,\u001b[0m \u001b[0m_stacktrace\u001b[0m\u001b[1;33m=\u001b[0m\u001b[0msys\u001b[0m\u001b[1;33m.\u001b[0m\u001b[0mexc_info\u001b[0m\u001b[1;33m(\u001b[0m\u001b[1;33m)\u001b[0m\u001b[1;33m[\u001b[0m\u001b[1;36m2\u001b[0m\u001b[1;33m]\u001b[0m\u001b[1;33m\u001b[0m\u001b[1;33m\u001b[0m\u001b[0m\n",
      "\u001b[1;32mD:\\conda\\lib\\site-packages\\urllib3\\util\\retry.py\u001b[0m in \u001b[0;36mincrement\u001b[1;34m(self, method, url, response, error, _pool, _stacktrace)\u001b[0m\n\u001b[0;32m    573\u001b[0m         \u001b[1;32mif\u001b[0m \u001b[0mnew_retry\u001b[0m\u001b[1;33m.\u001b[0m\u001b[0mis_exhausted\u001b[0m\u001b[1;33m(\u001b[0m\u001b[1;33m)\u001b[0m\u001b[1;33m:\u001b[0m\u001b[1;33m\u001b[0m\u001b[1;33m\u001b[0m\u001b[0m\n\u001b[1;32m--> 574\u001b[1;33m             \u001b[1;32mraise\u001b[0m \u001b[0mMaxRetryError\u001b[0m\u001b[1;33m(\u001b[0m\u001b[0m_pool\u001b[0m\u001b[1;33m,\u001b[0m \u001b[0murl\u001b[0m\u001b[1;33m,\u001b[0m \u001b[0merror\u001b[0m \u001b[1;32mor\u001b[0m \u001b[0mResponseError\u001b[0m\u001b[1;33m(\u001b[0m\u001b[0mcause\u001b[0m\u001b[1;33m)\u001b[0m\u001b[1;33m)\u001b[0m\u001b[1;33m\u001b[0m\u001b[1;33m\u001b[0m\u001b[0m\n\u001b[0m\u001b[0;32m    575\u001b[0m \u001b[1;33m\u001b[0m\u001b[0m\n",
      "\u001b[1;31mMaxRetryError\u001b[0m: HTTPConnectionPool(host='cm.portal.aps', port=80): Max retries exceeded with url: /api/v2/crawl/NWS (Caused by NewConnectionError('<urllib3.connection.HTTPConnection object at 0x000001F3920F0D30>: Failed to establish a new connection: [Errno 11001] getaddrinfo failed'))",
      "\nDuring handling of the above exception, another exception occurred:\n",
      "\u001b[1;31mConnectionError\u001b[0m                           Traceback (most recent call last)",
      "\u001b[1;32m~\\AppData\\Local\\Temp/ipykernel_92816/1120189943.py\u001b[0m in \u001b[0;36m<module>\u001b[1;34m\u001b[0m\n\u001b[0;32m     17\u001b[0m }\n\u001b[0;32m     18\u001b[0m \u001b[1;33m\u001b[0m\u001b[0m\n\u001b[1;32m---> 19\u001b[1;33m \u001b[0mresponse\u001b[0m \u001b[1;33m=\u001b[0m \u001b[0mrequests\u001b[0m\u001b[1;33m.\u001b[0m\u001b[0mrequest\u001b[0m\u001b[1;33m(\u001b[0m\u001b[1;34m\"POST\"\u001b[0m\u001b[1;33m,\u001b[0m \u001b[0mcrawleres_manager_url\u001b[0m \u001b[1;33m+\u001b[0m \u001b[1;34m\"/NWS\"\u001b[0m \u001b[1;33m,\u001b[0m \u001b[0mheaders\u001b[0m\u001b[1;33m=\u001b[0m\u001b[0mheaders\u001b[0m\u001b[1;33m,\u001b[0m \u001b[0mdata\u001b[0m\u001b[1;33m=\u001b[0m\u001b[0mpayload\u001b[0m\u001b[1;33m)\u001b[0m\u001b[1;33m\u001b[0m\u001b[1;33m\u001b[0m\u001b[0m\n\u001b[0m\u001b[0;32m     20\u001b[0m \u001b[1;33m\u001b[0m\u001b[0m\n\u001b[0;32m     21\u001b[0m \u001b[0mprint\u001b[0m\u001b[1;33m(\u001b[0m\u001b[0mresponse\u001b[0m\u001b[1;33m.\u001b[0m\u001b[0mtext\u001b[0m\u001b[1;33m)\u001b[0m\u001b[1;33m\u001b[0m\u001b[1;33m\u001b[0m\u001b[0m\n",
      "\u001b[1;32mD:\\conda\\lib\\site-packages\\requests\\api.py\u001b[0m in \u001b[0;36mrequest\u001b[1;34m(method, url, **kwargs)\u001b[0m\n\u001b[0;32m     59\u001b[0m     \u001b[1;31m# cases, and look like a memory leak in others.\u001b[0m\u001b[1;33m\u001b[0m\u001b[1;33m\u001b[0m\u001b[0m\n\u001b[0;32m     60\u001b[0m     \u001b[1;32mwith\u001b[0m \u001b[0msessions\u001b[0m\u001b[1;33m.\u001b[0m\u001b[0mSession\u001b[0m\u001b[1;33m(\u001b[0m\u001b[1;33m)\u001b[0m \u001b[1;32mas\u001b[0m \u001b[0msession\u001b[0m\u001b[1;33m:\u001b[0m\u001b[1;33m\u001b[0m\u001b[1;33m\u001b[0m\u001b[0m\n\u001b[1;32m---> 61\u001b[1;33m         \u001b[1;32mreturn\u001b[0m \u001b[0msession\u001b[0m\u001b[1;33m.\u001b[0m\u001b[0mrequest\u001b[0m\u001b[1;33m(\u001b[0m\u001b[0mmethod\u001b[0m\u001b[1;33m=\u001b[0m\u001b[0mmethod\u001b[0m\u001b[1;33m,\u001b[0m \u001b[0murl\u001b[0m\u001b[1;33m=\u001b[0m\u001b[0murl\u001b[0m\u001b[1;33m,\u001b[0m \u001b[1;33m**\u001b[0m\u001b[0mkwargs\u001b[0m\u001b[1;33m)\u001b[0m\u001b[1;33m\u001b[0m\u001b[1;33m\u001b[0m\u001b[0m\n\u001b[0m\u001b[0;32m     62\u001b[0m \u001b[1;33m\u001b[0m\u001b[0m\n\u001b[0;32m     63\u001b[0m \u001b[1;33m\u001b[0m\u001b[0m\n",
      "\u001b[1;32mD:\\conda\\lib\\site-packages\\requests\\sessions.py\u001b[0m in \u001b[0;36mrequest\u001b[1;34m(self, method, url, params, data, headers, cookies, files, auth, timeout, allow_redirects, proxies, hooks, stream, verify, cert, json)\u001b[0m\n\u001b[0;32m    540\u001b[0m         }\n\u001b[0;32m    541\u001b[0m         \u001b[0msend_kwargs\u001b[0m\u001b[1;33m.\u001b[0m\u001b[0mupdate\u001b[0m\u001b[1;33m(\u001b[0m\u001b[0msettings\u001b[0m\u001b[1;33m)\u001b[0m\u001b[1;33m\u001b[0m\u001b[1;33m\u001b[0m\u001b[0m\n\u001b[1;32m--> 542\u001b[1;33m         \u001b[0mresp\u001b[0m \u001b[1;33m=\u001b[0m \u001b[0mself\u001b[0m\u001b[1;33m.\u001b[0m\u001b[0msend\u001b[0m\u001b[1;33m(\u001b[0m\u001b[0mprep\u001b[0m\u001b[1;33m,\u001b[0m \u001b[1;33m**\u001b[0m\u001b[0msend_kwargs\u001b[0m\u001b[1;33m)\u001b[0m\u001b[1;33m\u001b[0m\u001b[1;33m\u001b[0m\u001b[0m\n\u001b[0m\u001b[0;32m    543\u001b[0m \u001b[1;33m\u001b[0m\u001b[0m\n\u001b[0;32m    544\u001b[0m         \u001b[1;32mreturn\u001b[0m \u001b[0mresp\u001b[0m\u001b[1;33m\u001b[0m\u001b[1;33m\u001b[0m\u001b[0m\n",
      "\u001b[1;32mD:\\conda\\lib\\site-packages\\requests\\sessions.py\u001b[0m in \u001b[0;36msend\u001b[1;34m(self, request, **kwargs)\u001b[0m\n\u001b[0;32m    653\u001b[0m \u001b[1;33m\u001b[0m\u001b[0m\n\u001b[0;32m    654\u001b[0m         \u001b[1;31m# Send the request\u001b[0m\u001b[1;33m\u001b[0m\u001b[1;33m\u001b[0m\u001b[0m\n\u001b[1;32m--> 655\u001b[1;33m         \u001b[0mr\u001b[0m \u001b[1;33m=\u001b[0m \u001b[0madapter\u001b[0m\u001b[1;33m.\u001b[0m\u001b[0msend\u001b[0m\u001b[1;33m(\u001b[0m\u001b[0mrequest\u001b[0m\u001b[1;33m,\u001b[0m \u001b[1;33m**\u001b[0m\u001b[0mkwargs\u001b[0m\u001b[1;33m)\u001b[0m\u001b[1;33m\u001b[0m\u001b[1;33m\u001b[0m\u001b[0m\n\u001b[0m\u001b[0;32m    656\u001b[0m \u001b[1;33m\u001b[0m\u001b[0m\n\u001b[0;32m    657\u001b[0m         \u001b[1;31m# Total elapsed time of the request (approximately)\u001b[0m\u001b[1;33m\u001b[0m\u001b[1;33m\u001b[0m\u001b[0m\n",
      "\u001b[1;32mD:\\conda\\lib\\site-packages\\requests\\adapters.py\u001b[0m in \u001b[0;36msend\u001b[1;34m(self, request, stream, timeout, verify, cert, proxies)\u001b[0m\n\u001b[0;32m    514\u001b[0m                 \u001b[1;32mraise\u001b[0m \u001b[0mSSLError\u001b[0m\u001b[1;33m(\u001b[0m\u001b[0me\u001b[0m\u001b[1;33m,\u001b[0m \u001b[0mrequest\u001b[0m\u001b[1;33m=\u001b[0m\u001b[0mrequest\u001b[0m\u001b[1;33m)\u001b[0m\u001b[1;33m\u001b[0m\u001b[1;33m\u001b[0m\u001b[0m\n\u001b[0;32m    515\u001b[0m \u001b[1;33m\u001b[0m\u001b[0m\n\u001b[1;32m--> 516\u001b[1;33m             \u001b[1;32mraise\u001b[0m \u001b[0mConnectionError\u001b[0m\u001b[1;33m(\u001b[0m\u001b[0me\u001b[0m\u001b[1;33m,\u001b[0m \u001b[0mrequest\u001b[0m\u001b[1;33m=\u001b[0m\u001b[0mrequest\u001b[0m\u001b[1;33m)\u001b[0m\u001b[1;33m\u001b[0m\u001b[1;33m\u001b[0m\u001b[0m\n\u001b[0m\u001b[0;32m    517\u001b[0m \u001b[1;33m\u001b[0m\u001b[0m\n\u001b[0;32m    518\u001b[0m         \u001b[1;32mexcept\u001b[0m \u001b[0mClosedPoolError\u001b[0m \u001b[1;32mas\u001b[0m \u001b[0me\u001b[0m\u001b[1;33m:\u001b[0m\u001b[1;33m\u001b[0m\u001b[1;33m\u001b[0m\u001b[0m\n",
      "\u001b[1;31mConnectionError\u001b[0m: HTTPConnectionPool(host='cm.portal.aps', port=80): Max retries exceeded with url: /api/v2/crawl/NWS (Caused by NewConnectionError('<urllib3.connection.HTTPConnection object at 0x000001F3920F0D30>: Failed to establish a new connection: [Errno 11001] getaddrinfo failed'))"
     ]
    }
   ],
   "source": [
    "payload = json.dumps({\n",
    "  \"workflow_id\": 111111111111111,\n",
    "  \"theme\": 0,\n",
    "  \"run_after\": [],\n",
    "  \"sntag\": \"nws\",\n",
    "  \"mongo_server_name\": mongo_server_name,\n",
    "  \"mongo_database_name\": database_name,\n",
    "  \"mongo_collection_name\": collection_name,\n",
    "  \"app_settings\": {\n",
    "    \"docker_name\": \"dreg.apsolutions.ru/news_crawler_v2\",\n",
    "    \"workers_count\": 1,\n",
    "    \"image_tag\": \"latest\"\n",
    "  }\n",
    "})\n",
    "headers = {\n",
    "  'Content-Type': 'application/json'\n",
    "}\n",
    "\n",
    "response = requests.request(\"POST\", crawleres_manager_url + \"/NWS\" , headers=headers, data=payload)\n",
    "\n",
    "print(response.text)\n",
    "\n",
    "db_crawl_id = json.loads(response.text)[\"crawl_id\"]\n",
    "\n",
    "print(db_crawl_id)"
   ]
  },
  {
   "cell_type": "markdown",
   "metadata": {},
   "source": [
    "Закидываем в созданную очередь задачи на обработку"
   ]
  },
  {
   "cell_type": "code",
   "execution_count": 6,
   "metadata": {},
   "outputs": [
    {
     "ename": "NameError",
     "evalue": "name 'db_crawl_id' is not defined",
     "output_type": "error",
     "traceback": [
      "\u001b[1;31m---------------------------------------------------------------------------\u001b[0m",
      "\u001b[1;31mNameError\u001b[0m                                 Traceback (most recent call last)",
      "\u001b[1;32m~\\AppData\\Local\\Temp/ipykernel_32268/4277457630.py\u001b[0m in \u001b[0;36m<module>\u001b[1;34m\u001b[0m\n\u001b[1;32m----> 1\u001b[1;33m \u001b[0murl\u001b[0m \u001b[1;33m=\u001b[0m \u001b[1;34mf\"http://cm.portal.aps/api/v2/crawl/{db_crawl_id}\"\u001b[0m\u001b[1;33m\u001b[0m\u001b[1;33m\u001b[0m\u001b[0m\n\u001b[0m\u001b[0;32m      2\u001b[0m \u001b[1;33m\u001b[0m\u001b[0m\n\u001b[0;32m      3\u001b[0m payload = json.dumps({\n\u001b[0;32m      4\u001b[0m     \u001b[1;34m\"mongo_server_name\"\u001b[0m\u001b[1;33m:\u001b[0m \u001b[0mmongo_server_name\u001b[0m\u001b[1;33m,\u001b[0m\u001b[1;33m\u001b[0m\u001b[1;33m\u001b[0m\u001b[0m\n\u001b[0;32m      5\u001b[0m     \u001b[1;34m\"mongo_database_name\"\u001b[0m\u001b[1;33m:\u001b[0m \u001b[0mdatabase_name\u001b[0m\u001b[1;33m,\u001b[0m\u001b[1;33m\u001b[0m\u001b[1;33m\u001b[0m\u001b[0m\n",
      "\u001b[1;31mNameError\u001b[0m: name 'db_crawl_id' is not defined"
     ]
    }
   ],
   "source": [
    "url = f\"http://cm.portal.aps/api/v2/crawl/{db_crawl_id}\"\n",
    "\n",
    "payload = json.dumps({\n",
    "    \"mongo_server_name\": mongo_server_name,\n",
    "    \"mongo_database_name\": database_name,\n",
    "    \"mongo_collection_name\": collection_name,\n",
    "    \"workflow_id\": \"1644949782675\",\n",
    "    \"run_after\": [],\n",
    "    \"task_fields_json\": \"{\\n  \\\"WorkersCount\\\": 1,\\n  \\\"download_files\\\": 0,\\n  \\\"on_diffbot_failure\\\": \\\"skip\\\",\\n  \\\"InDataType\\\": \\\"URL\\\",\\n  \\\"OutCollection\\\": \\\"Posts\\\"\\n}\",\n",
    "    \"entity_type\": \"URL\",\n",
    "    \"sntag\": \"NWS\",\n",
    "    \"theme\": 159,\n",
    "    \"main_db_server\": \"mongodb://192.168.135.21:27017\",\n",
    "    \"main_db\": \"MIP_Global\",\n",
    "    \"priority\": 5,\n",
    "    \"use_proxy\": False,\n",
    "    \"crawl_full_pages\": False,\n",
    "    \"download_depth\": 1,\n",
    "    \"url_address\": \"\",\n",
    "    \"dict_db\": \"MIP_Global\",\n",
    "    \"dict_server\": \"mongodb://192.168.135.21:27017\",\n",
    "    \"user\": \"\",\n",
    "    \"min_date\": 0,\n",
    "    \"sn_tag\": \"NWS\",\n",
    "    \"crawl_id\": db_crawl_id,\n",
    "    \"objects\": objects,\n",
    "    \"task_id\": \"cffe8b09-cc40-4b34-9915-bea5651611aa\"\n",
    "})\n",
    "headers = {\n",
    "  'Content-Type': 'application/json'\n",
    "}\n",
    "\n",
    "response = requests.request(\"PUT\", url, headers=headers, data=payload)\n",
    "\n",
    "print(response.text)\n",
    "print(response.status_code)\n"
   ]
  },
  {
   "cell_type": "code",
   "execution_count": 523,
   "metadata": {},
   "outputs": [
    {
     "name": "stdout",
     "output_type": "stream",
     "text": [
      "<Response [204]>\n"
     ]
    }
   ],
   "source": [
    "delete_query(db_crawl_id)"
   ]
  },
  {
   "cell_type": "code",
   "execution_count": 574,
   "metadata": {},
   "outputs": [
    {
     "name": "stdout",
     "output_type": "stream",
     "text": [
      "db.getCollection(\"Posts\").find({CrawlId :\"NWS-1648842275811448\"}).sort({_id: -1})\n"
     ]
    }
   ],
   "source": [
    "print('db.getCollection(\"Posts\").find({CrawlId :\"',db_crawl_id,'\"}).sort({_id: -1})', sep='')"
   ]
  },
  {
   "cell_type": "markdown",
   "metadata": {},
   "source": [
    "Прогресс выполнения можно посмотреть по crawl_id [тут](http://192.168.135.21:15672/#/queues)\n",
    "\n",
    "```\n",
    "test\n",
    "test\n",
    "```\n",
    "\n",
    "А результаты работы доступны в коллекции collection базы данныъ database_name сервера mongo_server_name. Для просмотра можно воспользоваться [robo3t](https://robomongo.org/)\n",
    "\n",
    "```\n",
    "database_name = \"WPE_test_2022\"\n",
    "mongo_server_name = \"mongodb://192.168.135.21:27017/\"\n",
    "collection = \"Posts\"\n",
    "```\n",
    "\n",
    "Пример запроса:\n",
    "```\n",
    "db.getCollection('Posts').find({CrawlId : \"NWS-1645209213614780\"}).sort({_id: -1})\n",
    "```\n",
    "где `{CrawlId : \"NWS-1645209213614780\"}` - условие поиска (найти все документы, собранные сервисом с указанным crawl_id ),\n",
    "`.sort({_id: -1}` - упорядочить результаты по дате загрузки в базу. Тоже самое можно сделать из питона."
   ]
  },
  {
   "cell_type": "code",
   "execution_count": 577,
   "metadata": {},
   "outputs": [],
   "source": [
    "from pymongo import MongoClient\n",
    "client = MongoClient(mongo_server_name)\n",
    "db = client[database_name]\n",
    "posts = db[collection_name]"
   ]
  },
  {
   "cell_type": "code",
   "execution_count": 578,
   "metadata": {},
   "outputs": [
    {
     "name": "stdout",
     "output_type": "stream",
     "text": [
      "{'_id': ObjectId('624742f2a9ceb108ebeddd9a'), 'ID': '503eda8d6152e5daa55f594c0d235d12936e401f602720c5d26b99675c98a947', 'ItemType': 1, 'LoadDate': datetime.datetime(2022, 4, 1, 18, 22, 33, 434000), 'CrawlId': ['NWS-1648837349503130', 'NWS-1648839829369628', 'WPE-1648839868048799', 'NWS-1648842099823798', 'NWS-1648842275811448'], 'WorkflowId': [111111111111111, 333], 'CrawlerType': 2, 'Title': '«Газпром» потерял контроль над европейскими ПХГ и трейдингом', 'Text': '«Газпром» утратил контроль над компанией – оператором подземных хранилищ газа (ПХГ) Германии «Астора» (astora), следует из сообщения газовой монополии, обнародованного 1 апреля. В релизе поясняется, что 31 марта дочерние структуры «Газпрома» вышли из капитала компании «Газпром экспорт бизнес–сервисы», являющейся единственным владельцем Gazprom Germania GmbH. Кто стал новым держателем, в сообщении не указывается.\\nGazprom Germania GmbH включает в себя компанию–дистрибутора WINGAS/WIEE – оператора ПХГ «Астора». Кроме того, в состав немецкой «дочки» российской газовой монополии также входит трейдинговое подразделение Gazprom Marketing & Trading (GM&T), включающее также трейдера сжиженного природного газа Gazprom Global LNG. По данным «Интерфакса», оборот Gazprom Germania GmbH в 2020 г. составил 13 млрд евро.\\nКомпания «Астора» – один из крупнейших операторов ПХГ в Евросоюзе. Она управляет подземными хранилищами в Германии и Австрии совокупным объемом около 6 млрд куб. м газа (ПХГ «Реден», «Хайдах», «Йемгум» и «Этцель», также «Газпром» использует ПХГ «Бергермеер» в Нидерландах). В целом «Газпром» владеет долями в европейских ПХГ общей мощностью около 10 млрд куб. м. Суммарная мощность всех ПХГ Евросоюза и Великобритании составляет около 108 млрд куб. м.\\nВыход «Газпрома» из активов в Европе произошел на фоне появившейся в СМИ информации о возможной национализации собственности компании в Германии в случае прекращения поставок российского газа. Об этом 31 марта сообщала немецкая газета Handelsblatt со ссылкой на источники в правительстве ФРГ.\\nВ среду, 30 марта, источники агентства Bloomberg сообщили об обысках в офисах Gazprom Germania и дочерней компании «Газпрома» Wingas, причинами которых могло стать расследование антимонопольного регулятора ЕС в отношении поставок газа. В частности, антимонопольный регулятор проводит проверку возможной причастности «Газпрома» к росту цен на газ в Европе до рекордных значений.\\nРанее источники Bloomberg также говорили, что власти Великобритании обсуждают возможность временно национализировать GM&T (ввести «специальный режим управления»). Ситуация вокруг поставок российского газа в ЕС стала накаляться после начала 24 февраля российскими военные спецоперации на Украине, целями которой, согласно заявлениям официальных лиц, является денацификация и демилитаризация, а также защита населения Донбасса.\\nВ ответ на это страны ЕС, Великобритания и США ввели несколько пакетов санкций против России (включая заморозку международных резервов РФ примерно на $300 млрд и ограничение доступа к евро), а Россия потребовала от недружественных государств перевода расчетов за газ в рубли. Соответствующий указ президента России Владимира Путина начал действовать 1 апреля 2022 г. Он предусматривает открытие компанией–покупателем газа валютного и рублевого счетов в уполномоченном банке, в роли которого выступает Газпромбанк (ГПБ). Поставки газа должны оплачиваться путем перевода на валютный счет, после чего банк обменивает эту валюту на рубли на Московской бирже и зачисляет их на рублевый счет покупателя, а тот переводит «Газпрому».\\nИсточник «Ведомостей», знакомый с подготовкой новой схемы оплаты, уточнял, что в президентском указе речь идет о газе, который будет поставлен в ЕС с 1 апреля. Платежи за него, по его словам, по одним контрактам «предусмотрены во второй половине апреля, по другим – в мае». При этом ранее официальные лица Евросоюза и G7 (Великобритания, Германия, Италия, Канада, Франция, Япония и США) заявляли, что не намерены переводить оплату российского газа с евро и долларов в рубли, поскольку действующие долгосрочные контракты этого не предусматривают. В свою очередь пресс–секретарь российского президента Дмитрий Песков подчеркивал, что бесплатно газ из России поставляться не будет.\\nРешение «Газпрома» выйти из Gazprom Germania GmbH обусловлено рисками, связанными с действиями недружественных стран и правительства Германии, считает заместитель гендиректора Фонда национальной энергетической безопасности Алексей Гривач. При этом эксперт отметил, что от этих действий пострадает, прежде всего, сам ЕС. «Сейчас энергетическая безопасность Европы и так висит на волоске в связи заявлениями их политиков и чиновников по поводу перехода на новую схему оплаты и более длинных решений, связанных с отказом от российских энергоносителей», – отметил он, напомнив, что Европа начала разрабатывать модель постепенного отказа от российского газа еще в начале 2000-х.\\nПо мнению аналитика, с учетом глобальной политической напряженности Германия, действительно, была способна «либо отобрать у «Газпрома» ПХГ, либо обязать компанию заполнять хранилища вопреки коммерческой логике». О необходимости заполнять ПХГ на 90% к 1 октября 2022 г. ранее говорили в Еврокомиссии. «В целом, это плохие новости с точки зрения перспектив нормализации отношений [между Россией и ЕС]», – заключает Гривач.\\nЗаместитель гендиректора Института национальной энергетики Александр Фролов обратил внимание на то, что сейчас речь идет лишь об утрате «Газпромом» статуса оператора четырех крупнейших европейских ПХГ. Но если политическая ситуация продолжит ухудшаться, то компания может продать также и принадлежащие ей доли в этих хранилищах.\\nНа фоне обострения отношений из–за конфликта вокруг Украины в ЕС сохраняются высокие цены на газ, пик роста которых в 2022 г. пришелся на 7 марта – тогда на хабе TTF в Нидерландах 1000 куб. м торговались почти по $4000, что является абсолютным историческим максимумом. По данным биржи ICE, 1 апреля на TTF майский фьючерс на газ стоил около $1430 за 1000 куб. м.\\nВ 2021 г. «Газпром», по данным Международного энергетического агентства (МЭА), поставил в ЕС около 155 млрд куб. м газа. При этом МЭА ранее разработало и опубликовало план, реализация которого позволит заместить около 50 млрд куб. м российского газа. Он предусматривал как диверсификацию поставок, так и регуляторные меры, в том числе рекомендацию в зимний период понизить температуру в домах на 1 градус Цельсия.', 'URL': 'https://www.vedomosti.ru/business/articles/2022/04/01/916299-gazprom-poteryal-kontrol-evropeiskimi-phg', 'AuthorName': 'Матвей Катков', '_SentimentValue': 1, '_Language': 1, 'DocumentTags': [{'name': 'Gazprom Germania', 'weight': 4}, {'name': 'Gazprom', 'weight': 10}, {'name': 'Wingas', 'weight': 2}, {'name': 'Europe', 'weight': 4}, {'name': 'Vladimir Putin', 'weight': 1}, {'name': 'Bloomberg L.P.', 'weight': 2}, {'name': 'General Motors', 'weight': 3}, {'name': 'Franz Etzel', 'weight': 1}, {'name': 'liquefied natural gas', 'weight': 1}, {'name': 'Aleksandr Frolov', 'weight': 1}], 'Photos': [{'ID': '3e240b238f243a5298e4a0cd091c47eb57914844b8d3905ade30c190fa704fc4', 'URL': 'https://cdn5.vedomosti.ru/crop/image/2022/2i/133fts/original-1eo2.jpg?height=330&width=600', 'Name': 'Как Южная Осетия выходила из состава Грузии'}, {'ID': '7f255dc3d7eed5b087685d2c8c590025f179ad644ca25c68e3c98ad057ce1b3e', 'URL': 'https://cdn5.vedomosti.ru/crop/image/2022/2j/14prvf/original-1gro.jpg?height=698&width=1240', 'Name': 'Максим Стулов / Ведомости'}, {'ID': '955984829961fd13a9aaf4dd88a13a639ed8dc675572f3e958a4b9892da864e7', 'URL': 'https://cdn5.vedomosti.ru/image/2022/29/v6u52/original-14f7.png', 'Name': 'Как архитекторы обыгрывают городское пространство с помощью технологий'}], 'Videos': [], 'isModified': 0, 'Region': 'Russia', 'TitleLog': [], 'TextLog': [], 'Sntag': 'NWS', 'PostType': 1, 'CreatedDate': datetime.datetime(2022, 4, 1, 19, 20, 54), 'Language': 1, 'SentimentValue': 1, 'WebPageDumps': [{'ID': '62474cc99f8daf55c2165efb', 'URL': 'https://www.vedomosti.ru/business/articles/2022/04/01/916299-gazprom-poteryal-kontrol-evropeiskimi-phg', 'Desc': '1648839881.wpd', 'mongoCredentials': {'mongoServerName': 'mongodb://192.168.135.21:27017', 'mongoDataBaseName': 'WPE_test_2022', 'mongoCollectionName': 'fs'}, 'LoadDate': datetime.datetime(2022, 4, 1, 19, 4, 30, 556000)}]}\n"
     ]
    }
   ],
   "source": [
    "cursor = posts.find({'CrawlId' : db_crawl_id})\n",
    "for post in cursor:\n",
    "    print(post)"
   ]
  },
  {
   "cell_type": "markdown",
   "metadata": {},
   "source": [
    "По окончании работы, не забываем убить за собой сервис"
   ]
  },
  {
   "cell_type": "code",
   "execution_count": 579,
   "metadata": {},
   "outputs": [
    {
     "name": "stdout",
     "output_type": "stream",
     "text": [
      "<Response [204]>\n"
     ]
    }
   ],
   "source": [
    "delete_query(db_crawl_id)"
   ]
  },
  {
   "cell_type": "markdown",
   "metadata": {},
   "source": [
    "Теперь соберем WPD этих же страниц. Для этого возьмем пару доп. функций"
   ]
  },
  {
   "cell_type": "code",
   "execution_count": 580,
   "metadata": {},
   "outputs": [],
   "source": [
    "def create_query(workers_count: int, database_name, docker_name, sntag, pas_resourse_id=\"vk\"):\n",
    "    url = f\"http://cm.portal.aps/api/v2/crawl/{sntag}\"\n",
    "\n",
    "    payload = {\n",
    "        \"mongo_server_name\": mongo_server_name,\n",
    "        \"mongo_database_name\": database_name,\n",
    "        \"mongo_collection_name\": collection_name,\n",
    "        \"workflow_id\": 333,\n",
    "        \"task_type\": 3,\n",
    "        \"app_settings\": {\"workers_count\": workers_count},\n",
    "        \"options\": {\"proxy\": 1, \"fields\": [\"root_element\", \"screenshot\"]},\n",
    "    }\n",
    "\n",
    "    payload[\"app_settings\"][\"docker_name\"] = docker_name\n",
    "    headers = {\"Content-Type\": \"application/json\"}\n",
    "    response = requests.request(\"POST\", url, json=payload)\n",
    "    crawl_id = json.loads(response.text)[\"crawl_id\"]\n",
    "    return crawl_id\n",
    "\n",
    "\n",
    "def send_payload(crawl_id, payload):\n",
    "    url = f\"http://cm.portal.aps/api/v2/crawl/{crawl_id}\"\n",
    "    headers = {\"Content-Type\": \"application/json\"}\n",
    "    response = requests.request(\"PUT\", url, headers=headers, json=payload)\n",
    "    print(response)\n",
    "    \n",
    "    \n",
    "# def send_data_webpage_extractor(\n",
    "#     crawl_id,\n",
    "#     objects,\n",
    "#     task_type,\n",
    "#     database_name,\n",
    "#     collection,\n",
    "#     task_fields_json={},\n",
    "#     resource=\"vki\",\n",
    "# ):\n",
    "    "
   ]
  },
  {
   "cell_type": "code",
   "execution_count": 581,
   "metadata": {},
   "outputs": [
    {
     "name": "stdout",
     "output_type": "stream",
     "text": [
      "WPE-1648842306094214\n"
     ]
    }
   ],
   "source": [
    "# создаем рабочий процесс прокачки web page dump\n",
    "wpd_crawl_id = create_query(\n",
    "    workers_count=1,\n",
    "    database_name=database_name,\n",
    "    docker_name=\"dreg.apsolutions.ru/webpage_extractor_v2\",\n",
    "    sntag=\"WPE\",\n",
    "    pas_resourse_id=\"vk\",\n",
    ")\n",
    "\n",
    "print(wpd_crawl_id)"
   ]
  },
  {
   "cell_type": "markdown",
   "metadata": {},
   "source": [
    "Кидаем в процесс задачу"
   ]
  },
  {
   "cell_type": "code",
   "execution_count": 582,
   "metadata": {},
   "outputs": [
    {
     "name": "stdout",
     "output_type": "stream",
     "text": [
      "<Response [204]>\n"
     ]
    }
   ],
   "source": [
    "#objects = [\"https://www.rbc.ru/society/18/02/2022/620fd7409a7947aaa25d8377?from=from_main_5\"]\n",
    "#objects = [\"https://ura.news/news/1052542740\"]\n",
    "\n",
    "url = f\"http://cm.portal.aps/api/v2/crawl/{wpd_crawl_id}\"\n",
    "headers = {\"Content-Type\": \"application/json\"}\n",
    "task_fields_json = {\n",
    "    \"mongo_server_name\": mongo_server_name,\n",
    "    \"mongo_database_name\": database_name,\n",
    "    \"mongo_collection_name\": collection_name,\n",
    "    \"workflow_id\": 333,\n",
    "    \"task_type\": 3,\n",
    "    \"pas_resource\": \"vki\",\n",
    "    \"fields\": [\"root_element\", \"screenshot\"],\n",
    "    \"objects\": objects,\n",
    "    \"app_settings\": {\n",
    "        \"workers_count\": 1\n",
    "    },\n",
    "}\n",
    "\n",
    "payload = {\"task_fields_json\": json.dumps(task_fields_json), \"kek\":\"kek\", \"fields\": [\"root_element\", \"screenshot\"], \"objects\": objects}\n",
    "\n",
    "response = requests.request(\"PUT\", url, headers=headers, json=payload)\n",
    "print(response)"
   ]
  },
  {
   "cell_type": "code",
   "execution_count": 583,
   "metadata": {},
   "outputs": [
    {
     "data": {
      "text/plain": [
       "['https://www.vedomosti.ru/business/articles/2022/04/01/916299-gazprom-poteryal-kontrol-evropeiskimi-phg']"
      ]
     },
     "execution_count": 583,
     "metadata": {},
     "output_type": "execute_result"
    }
   ],
   "source": [
    "objects"
   ]
  },
  {
   "cell_type": "markdown",
   "metadata": {},
   "source": [
    "Давайте найдем наш материал в базе:\n",
    "```\n",
    "db.getCollection('Posts').find({URL: \"https://www.vedomosti.ru/business/articles/2022/04/01/916299-gazprom-poteryal-kontrol-evropeiskimi-phg\"})\n",
    "```"
   ]
  },
  {
   "cell_type": "markdown",
   "metadata": {},
   "source": [
    "Видим, что по итогам сбора у нас 1) Добавился еще один crawl_id 2) Появилась секция WebPageDumps"
   ]
  },
  {
   "cell_type": "markdown",
   "metadata": {},
   "source": [
    "Не забываем убить не нужный нам более обработчик"
   ]
  },
  {
   "cell_type": "code",
   "execution_count": 584,
   "metadata": {},
   "outputs": [
    {
     "name": "stdout",
     "output_type": "stream",
     "text": [
      "<Response [204]>\n"
     ]
    }
   ],
   "source": [
    "delete_query(wpd_crawl_id)"
   ]
  },
  {
   "cell_type": "markdown",
   "metadata": {},
   "source": [
    "Из полученного дампа можно получить структуру страницы, запустив еще один обработчик"
   ]
  },
  {
   "cell_type": "code",
   "execution_count": 601,
   "metadata": {},
   "outputs": [
    {
     "name": "stdout",
     "output_type": "stream",
     "text": [
      "{\"crawl_id\":\"WSP-1648843103342162\",\"workflow_id\":\"111111111111111\",\"url\":\"http:\\/\\/cm.portal.aps\\/api\\/v2\\/crawl\\/WSP-1648843103342162\",\"input_url\":\"http:\\/\\/cm.portal.aps\\/api\\/v2\\/crawl\\/WSP-1648843103342162\\/input\",\"errors_url\":\"http:\\/\\/cm.portal.aps\\/api\\/v2\\/crawl\\/WSP-1648843103342162\\/errors\"}\n",
      "WSP-1648843103342162\n"
     ]
    }
   ],
   "source": [
    "payload = json.dumps({\n",
    "  \"workflow_id\": 111111111111111,\n",
    "  \"theme\": 0,\n",
    "  \"run_after\": [],\n",
    "  \"sntag\": \"WSP\",\n",
    "  \"mongo_server_name\": mongo_server_name,\n",
    "  \"mongo_database_name\": database_name,\n",
    "  \"mongo_collection_name\": collection_name,\n",
    "  \"app_settings\": {\n",
    "    \"docker_name\": \"dreg.apsolutions.ru/wsp_parser_v2\",\n",
    "    \"workers_count\": 0,\n",
    "    \"image_tag\": \"latest\"\n",
    "  }\n",
    "})\n",
    "headers = {\n",
    "  'Content-Type': 'application/json'\n",
    "}\n",
    "\n",
    "response = requests.request(\"POST\", crawleres_manager_url + \"/WSP\" , headers=headers, data=payload)\n",
    "\n",
    "print(response.text)\n",
    "\n",
    "wsp_crawl_id = json.loads(response.text)[\"crawl_id\"]\n",
    "\n",
    "print(wsp_crawl_id)"
   ]
  },
  {
   "cell_type": "code",
   "execution_count": 604,
   "metadata": {},
   "outputs": [
    {
     "name": "stdout",
     "output_type": "stream",
     "text": [
      "204\n",
      "\n"
     ]
    }
   ],
   "source": [
    "url = f\"http://cm.portal.aps/api/v2/crawl/{wsp_crawl_id}\"\n",
    "#objects = [\"https://ura.news/news/1052542740\"]\n",
    "\n",
    "payload = json.dumps({\n",
    "    \"mongo_server_name\": mongo_server_name,\n",
    "    \"mongo_database_name\": database_name,\n",
    "    \"mongo_collection_name\": collection_name,\n",
    "    \"workflow_id\": \"1644949782675\",\n",
    "    \"run_after\": [],\n",
    "    \"task_fields_json\": \"{  \\\"WorkersCount\\\": 0, \\\"mongo_server_name\\\": \\\"mongodb://192.168.135.21:27017/\\\", \\\"mongo_database_name\\\": \\\"WPE_test_2022\\\",\\\"mongo_input_collection_name\\\": \\\"Posts\\\",\\\"mongo_output_collection_name\\\": \\\"Blocks\\\",\\\"mode\\\": \\\"initial\\\"}\",\n",
    "    \"objects\": objects,\n",
    "    \"app_settings\": {\n",
    "        \"workers_count\": 0\n",
    "    }\n",
    "})\n",
    "headers = {\n",
    "  'Content-Type': 'application/json'\n",
    "}\n",
    "\n",
    "response = requests.request(\"PUT\", url, headers=headers, data=payload)\n",
    "print(response.status_code)\n",
    "print(response.text)\n"
   ]
  },
  {
   "cell_type": "code",
   "execution_count": 605,
   "metadata": {},
   "outputs": [
    {
     "name": "stdout",
     "output_type": "stream",
     "text": [
      "\n",
      "204\n"
     ]
    }
   ],
   "source": [
    "url = f\"http://cm.portal.aps/api/v2/crawl/{wsp_crawl_id}\"\n",
    "#objects = [\"https://ura.news/news/1052542740\"]\n",
    "\n",
    "payload = json.dumps({\n",
    "    \"mongo_server_name\": mongo_server_name,\n",
    "    \"mongo_database_name\": database_name,\n",
    "    \"mongo_collection_name\": collection_name,\n",
    "    \"workflow_id\": \"1644949782675\",\n",
    "    \"run_after\": [],\n",
    "    \"task_fields_json\": \"{  \\\"WorkersCount\\\": 0, \\\"mongo_server_name\\\": \\\"mongodb://192.168.135.21:27017/\\\", \\\"mongo_database_name\\\": \\\"WPE_test_2022\\\",\\\"mongo_input_collection_name\\\": \\\"Posts\\\",\\\"mongo_output_collection_name\\\": \\\"Blocks\\\",\\\"mode\\\": \\\"blocks_extraction\\\"}\",\n",
    "    \"objects\": objects,\n",
    "    \"app_settings\": {\n",
    "        \"workers_count\": 1\n",
    "    }\n",
    "})\n",
    "headers = {\n",
    "  'Content-Type': 'application/json'\n",
    "}\n",
    "\n",
    "response = requests.request(\"PUT\", url, headers=headers, data=payload)\n",
    "\n",
    "print(response.text)\n",
    "print(response.status_code)\n"
   ]
  },
  {
   "cell_type": "code",
   "execution_count": 595,
   "metadata": {},
   "outputs": [
    {
     "name": "stdout",
     "output_type": "stream",
     "text": [
      "<Response [204]>\n"
     ]
    }
   ],
   "source": [
    "delete_query(wsp_crawl_id)"
   ]
  },
  {
   "cell_type": "code",
   "execution_count": 598,
   "metadata": {},
   "outputs": [],
   "source": [
    "url = objects[0]"
   ]
  },
  {
   "cell_type": "code",
   "execution_count": 599,
   "metadata": {},
   "outputs": [],
   "source": [
    "import gridfs\n",
    "grid_fs = gridfs.GridFS(db)"
   ]
  },
  {
   "cell_type": "code",
   "execution_count": 600,
   "metadata": {},
   "outputs": [],
   "source": [
    "post = posts.find_one({\"URL\": url})\n",
    "\n",
    "wpd_filename = post[\"WebPageDumps\"][-1][\"Desc\"]\n",
    "wpd_file = grid_fs.find_one({\"filename\": wpd_filename})"
   ]
  },
  {
   "cell_type": "code",
   "execution_count": 157,
   "metadata": {
    "scrolled": true
   },
   "outputs": [
    {
     "name": "stderr",
     "output_type": "stream",
     "text": [
      "ERROR: Could not find a version that satisfies the requirement webpagelib (from versions: none)\n",
      "ERROR: No matching distribution found for webpagelib\n"
     ]
    }
   ],
   "source": [
    "!pip install webpagelib"
   ]
  },
  {
   "cell_type": "code",
   "execution_count": null,
   "metadata": {},
   "outputs": [],
   "source": [
    "import webpagelib\n",
    "wpd_data = webpagelib.WebPageDump.from_messagepack(wpd_file.read())"
   ]
  },
  {
   "cell_type": "code",
   "execution_count": null,
   "metadata": {},
   "outputs": [],
   "source": [
    "!pwd"
   ]
  },
  {
   "cell_type": "code",
   "execution_count": null,
   "metadata": {},
   "outputs": [],
   "source": [
    "import parser\n",
    "\n",
    "def parse(wpd, url):\n",
    "    features = {\n",
    "        \"Blocks\": {},\n",
    "        \"Text\": \"\",\n",
    "        \"MatchingBlocks\": [],\n",
    "        \"Grid\": [],\n",
    "        \"Image\": {},\n",
    "        \"URL\": url,\n",
    "    }\n",
    "    image_size, features[\"Blocks\"] = parser.extract_data_from_WPD(wpd)\n",
    "    features[\"Image\"][\"width\"], features[\"Image\"][\"height\"] = image_size\n",
    "    return features"
   ]
  },
  {
   "cell_type": "code",
   "execution_count": null,
   "metadata": {},
   "outputs": [],
   "source": [
    "features = parse(wpd_data, url)"
   ]
  },
  {
   "cell_type": "code",
   "execution_count": null,
   "metadata": {},
   "outputs": [],
   "source": [
    "doc = posts.find_one(\n",
    "        {\"URL\": url}, {\"Blocks\": 1, \"Image\": 1, \"Text\": 1, \"URL\": 1}\n",
    "    )"
   ]
  }
 ],
 "metadata": {
  "kernelspec": {
   "display_name": "Python 3 (ipykernel)",
   "language": "python",
   "name": "python3"
  },
  "language_info": {
   "codemirror_mode": {
    "name": "ipython",
    "version": 3
   },
   "file_extension": ".py",
   "mimetype": "text/x-python",
   "name": "python",
   "nbconvert_exporter": "python",
   "pygments_lexer": "ipython3",
   "version": "3.9.7"
  },
  "varInspector": {
   "cols": {
    "lenName": 16,
    "lenType": 16,
    "lenVar": 40
   },
   "kernels_config": {
    "python": {
     "delete_cmd_postfix": "",
     "delete_cmd_prefix": "del ",
     "library": "var_list.py",
     "varRefreshCmd": "print(var_dic_list())"
    },
    "r": {
     "delete_cmd_postfix": ") ",
     "delete_cmd_prefix": "rm(",
     "library": "var_list.r",
     "varRefreshCmd": "cat(var_dic_list()) "
    }
   },
   "types_to_exclude": [
    "module",
    "function",
    "builtin_function_or_method",
    "instance",
    "_Feature"
   ],
   "window_display": false
  }
 },
 "nbformat": 4,
 "nbformat_minor": 2
}
